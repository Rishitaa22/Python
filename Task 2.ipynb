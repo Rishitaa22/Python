{
 "cells": [
  {
   "cell_type": "code",
   "execution_count": 1,
   "id": "abf8a924",
   "metadata": {},
   "outputs": [
    {
     "name": "stdout",
     "output_type": "stream",
     "text": [
      "worldEveryone\n"
     ]
    }
   ],
   "source": [
    "str_1=\"Hello world!\"\n",
    "str_2=str_1[6:11]\n",
    "print(str_2+\"Everyone\")"
   ]
  },
  {
   "cell_type": "code",
   "execution_count": null,
   "id": "01a7bb6d",
   "metadata": {},
   "outputs": [],
   "source": []
  }
 ],
 "metadata": {
  "kernelspec": {
   "display_name": "Python 3 (ipykernel)",
   "language": "python",
   "name": "python3"
  },
  "language_info": {
   "codemirror_mode": {
    "name": "ipython",
    "version": 3
   },
   "file_extension": ".py",
   "mimetype": "text/x-python",
   "name": "python",
   "nbconvert_exporter": "python",
   "pygments_lexer": "ipython3",
   "version": "3.9.12"
  }
 },
 "nbformat": 4,
 "nbformat_minor": 5
}
